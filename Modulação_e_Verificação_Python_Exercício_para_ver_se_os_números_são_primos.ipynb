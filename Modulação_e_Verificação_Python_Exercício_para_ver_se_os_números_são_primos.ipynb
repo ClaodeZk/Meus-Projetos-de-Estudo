{
  "nbformat": 4,
  "nbformat_minor": 0,
  "metadata": {
    "colab": {
      "provenance": [],
      "authorship_tag": "ABX9TyN/71uqA8I8BGMWwZbj7f9k",
      "include_colab_link": true
    },
    "kernelspec": {
      "name": "python3",
      "display_name": "Python 3"
    },
    "language_info": {
      "name": "python"
    }
  },
  "cells": [
    {
      "cell_type": "markdown",
      "metadata": {
        "id": "view-in-github",
        "colab_type": "text"
      },
      "source": [
        "<a href=\"https://colab.research.google.com/github/ClaodeZk/Meus-Projetos-de-Estudo/blob/main/Modula%C3%A7%C3%A3o_e_Verifica%C3%A7%C3%A3o_Python_Exerc%C3%ADcio_para_ver_se_os_n%C3%BAmeros_s%C3%A3o_primos.ipynb\" target=\"_parent\"><img src=\"https://colab.research.google.com/assets/colab-badge.svg\" alt=\"Open In Colab\"/></a>"
      ]
    },
    {
      "cell_type": "markdown",
      "source": [
        "Exemplo de matriz e verificação de Matriz com módulos"
      ],
      "metadata": {
        "id": "hnWLkixixNNV"
      }
    },
    {
      "cell_type": "code",
      "execution_count": 1,
      "metadata": {
        "colab": {
          "base_uri": "https://localhost:8080/"
        },
        "id": "tjXKwGNtxKlA",
        "outputId": "bd7c5277-e5cc-44ee-b0c0-6a6cc89fd0d1"
      },
      "outputs": [
        {
          "name": "stdout",
          "output_type": "stream",
          "text": [
            "Digite um número: 1\n",
            "Digite um número: 2\n",
            "Digite um número: 3\n",
            "Digite um número: 4\n",
            "Digite um número: 5\n",
            "Digite um número: 6\n",
            "Digite um número: 7\n",
            "Digite um número: 8\n",
            "Digite um número: 9\n",
            "Digite um número: 10\n"
          ]
        }
      ],
      "source": [
        "lista=[]\n",
        "for i in range(10):\n",
        "  lista.append(int(input('Digite um número: ')))\n",
        ""
      ]
    },
    {
      "cell_type": "code",
      "source": [
        "import numpy as np\n",
        "def fPrimo(num):\n",
        "  if(num<2):\n",
        "    print(f'O número {num} não é primo')\n",
        "    return\n",
        "\n",
        "  x = np.round(num/2)\n",
        "  ehPrimo = True\n",
        "  while x>1:\n",
        "    if(num % x == 0):\n",
        "      ehPrimo = False\n",
        "      break\n",
        "    x = x -1\n",
        "  if(ehPrimo):\n",
        "    print(f'O número {num} é primo')\n",
        "  else:\n",
        "    print(f'O número {num} não é primo')\n",
        "\n"
      ],
      "metadata": {
        "id": "67vwinC8xid5"
      },
      "execution_count": 3,
      "outputs": []
    },
    {
      "cell_type": "code",
      "source": [
        "for elem in lista:\n",
        "  fPrimo(elem)\n",
        ""
      ],
      "metadata": {
        "colab": {
          "base_uri": "https://localhost:8080/"
        },
        "id": "IopvcWmjyOJ7",
        "outputId": "e6ba2b35-dd1f-44ea-c302-2b3fa8f13889"
      },
      "execution_count": 4,
      "outputs": [
        {
          "output_type": "stream",
          "name": "stdout",
          "text": [
            "O número 1 não é primo\n",
            "O número 2 é primo\n",
            "O número 3 é primo\n",
            "O número 4 não é primo\n",
            "O número 5 é primo\n",
            "O número 6 não é primo\n",
            "O número 7 é primo\n",
            "O número 8 não é primo\n",
            "O número 9 não é primo\n",
            "O número 10 não é primo\n"
          ]
        }
      ]
    }
  ]
}