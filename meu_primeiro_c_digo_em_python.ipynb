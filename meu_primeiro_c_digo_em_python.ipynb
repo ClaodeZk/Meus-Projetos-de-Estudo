{
  "nbformat": 4,
  "nbformat_minor": 0,
  "metadata": {
    "colab": {
      "provenance": []
    },
    "kernelspec": {
      "name": "python3",
      "display_name": "Python 3"
    },
    "language_info": {
      "name": "python"
    }
  },
  "cells": [
    {
      "cell_type": "markdown",
      "source": [
        "Meu Primeiro Código Python em Colab."
      ],
      "metadata": {
        "id": "qAXqIhqWGdAy"
      }
    },
    {
      "cell_type": "code",
      "source": [
        "# entrada:\n",
        "nome = input('Digite o seu nome: ')\n",
        "endereco = input('Digite o seu endereço: ')\n",
        "peso = float(input('Digite o seu peso: '))\n",
        "altura = float(input('Digite a sua altura: '))\n",
        "idade = int(input('Digite a sua idade: '))\n",
        "\n",
        "# saída:\n",
        "print ('Nome: ', nome)\n",
        "print ('Endereço: ', endereco)\n",
        "print ('Peso: ', peso)\n",
        "print ('Altura: ', altura)\n",
        "print ('Idade: ', idade)\n"
      ],
      "metadata": {
        "colab": {
          "base_uri": "https://localhost:8080/"
        },
        "id": "FHf3f_R6Ggdf",
        "outputId": "deba6c11-d481-4610-953b-4e4ac241a0ab"
      },
      "execution_count": null,
      "outputs": [
        {
          "output_type": "stream",
          "name": "stdout",
          "text": [
            "Digite o seu nome: Gabriel\n",
            "Digite o seu endereço: Brasil\n",
            "Digite o seu peso: 88.4\n",
            "Digite a sua altura: 1.80\n",
            "Digite a sua idade: 25\n",
            "Nome:  Gabriel\n",
            "Endereço:  Brasil\n",
            "Peso:  88.4\n",
            "Altura:  1.8\n",
            "Idade:  25\n"
          ]
        }
      ]
    }
  ]
}
